{
 "cells": [
  {
   "cell_type": "code",
   "execution_count": 1,
   "id": "20ce7ec1",
   "metadata": {},
   "outputs": [
    {
     "name": "stdout",
     "output_type": "stream",
     "text": [
      "Puthon 3.9.15\n"
     ]
    }
   ],
   "source": [
    "from platform import python_version\n",
    "print('Puthon '+python_version())"
   ]
  },
  {
   "cell_type": "code",
   "execution_count": 2,
   "id": "cbb007b2",
   "metadata": {},
   "outputs": [],
   "source": [
    "import pandas as pd\n",
    "import numpy as np\n",
    "import matplotlib.pyplot as plt \n",
    "import seaborn as sns"
   ]
  },
  {
   "cell_type": "code",
   "execution_count": 3,
   "id": "5132815a",
   "metadata": {},
   "outputs": [],
   "source": [
    "df = pd.read_excel(\"Bancodedados_Internações_morbidade_transt mentais_enriquecido.xlsx\")\n",
    "df.drop('Código', axis=1, inplace=True)"
   ]
  },
  {
   "cell_type": "code",
   "execution_count": 4,
   "id": "009ce503",
   "metadata": {},
   "outputs": [
    {
     "data": {
      "text/html": [
       "<div>\n",
       "<style scoped>\n",
       "    .dataframe tbody tr th:only-of-type {\n",
       "        vertical-align: middle;\n",
       "    }\n",
       "\n",
       "    .dataframe tbody tr th {\n",
       "        vertical-align: top;\n",
       "    }\n",
       "\n",
       "    .dataframe thead th {\n",
       "        text-align: right;\n",
       "    }\n",
       "</style>\n",
       "<table border=\"1\" class=\"dataframe\">\n",
       "  <thead>\n",
       "    <tr style=\"text-align: right;\">\n",
       "      <th></th>\n",
       "      <th>Município</th>\n",
       "      <th>Mesorregião</th>\n",
       "      <th>Média de idade</th>\n",
       "      <th>10 a 14 anos</th>\n",
       "      <th>15 a 19 anos</th>\n",
       "      <th>20 a 29 anos</th>\n",
       "      <th>30 a 39 anos</th>\n",
       "      <th>40 a 49 anos</th>\n",
       "      <th>50 a 59 anos</th>\n",
       "      <th>60 a 69 anos</th>\n",
       "      <th>70 a 79 anos</th>\n",
       "      <th>Total</th>\n",
       "    </tr>\n",
       "  </thead>\n",
       "  <tbody>\n",
       "    <tr>\n",
       "      <th>0</th>\n",
       "      <td>ABADIA DOS DOURADOS</td>\n",
       "      <td>Triângulo Mineiro/Alto Paranaíba</td>\n",
       "      <td>12.0</td>\n",
       "      <td>0</td>\n",
       "      <td>0</td>\n",
       "      <td>0</td>\n",
       "      <td>0</td>\n",
       "      <td>1</td>\n",
       "      <td>0</td>\n",
       "      <td>0</td>\n",
       "      <td>0</td>\n",
       "      <td>1</td>\n",
       "    </tr>\n",
       "    <tr>\n",
       "      <th>1</th>\n",
       "      <td>AGUAS VERMELHAS</td>\n",
       "      <td>Norte de Minas</td>\n",
       "      <td>15.0</td>\n",
       "      <td>0</td>\n",
       "      <td>1</td>\n",
       "      <td>0</td>\n",
       "      <td>0</td>\n",
       "      <td>0</td>\n",
       "      <td>0</td>\n",
       "      <td>0</td>\n",
       "      <td>0</td>\n",
       "      <td>1</td>\n",
       "    </tr>\n",
       "    <tr>\n",
       "      <th>2</th>\n",
       "      <td>AMPARO DO SERRA</td>\n",
       "      <td>Zona da Mata</td>\n",
       "      <td>70.0</td>\n",
       "      <td>0</td>\n",
       "      <td>0</td>\n",
       "      <td>0</td>\n",
       "      <td>0</td>\n",
       "      <td>0</td>\n",
       "      <td>0</td>\n",
       "      <td>0</td>\n",
       "      <td>1</td>\n",
       "      <td>1</td>\n",
       "    </tr>\n",
       "    <tr>\n",
       "      <th>3</th>\n",
       "      <td>ARACAI</td>\n",
       "      <td>Metropolitana de Belo Horizonte</td>\n",
       "      <td>16.0</td>\n",
       "      <td>0</td>\n",
       "      <td>0</td>\n",
       "      <td>0</td>\n",
       "      <td>0</td>\n",
       "      <td>0</td>\n",
       "      <td>1</td>\n",
       "      <td>0</td>\n",
       "      <td>0</td>\n",
       "      <td>1</td>\n",
       "    </tr>\n",
       "    <tr>\n",
       "      <th>4</th>\n",
       "      <td>ARACITABA</td>\n",
       "      <td>Zona da Mata</td>\n",
       "      <td>17.0</td>\n",
       "      <td>0</td>\n",
       "      <td>1</td>\n",
       "      <td>0</td>\n",
       "      <td>0</td>\n",
       "      <td>0</td>\n",
       "      <td>0</td>\n",
       "      <td>0</td>\n",
       "      <td>0</td>\n",
       "      <td>1</td>\n",
       "    </tr>\n",
       "  </tbody>\n",
       "</table>\n",
       "</div>"
      ],
      "text/plain": [
       "             Município                       Mesorregião  Média de idade  \\\n",
       "0  ABADIA DOS DOURADOS  Triângulo Mineiro/Alto Paranaíba            12.0   \n",
       "1      AGUAS VERMELHAS                    Norte de Minas            15.0   \n",
       "2      AMPARO DO SERRA                      Zona da Mata            70.0   \n",
       "3               ARACAI   Metropolitana de Belo Horizonte            16.0   \n",
       "4            ARACITABA                      Zona da Mata            17.0   \n",
       "\n",
       "   10 a 14 anos  15 a 19 anos  20 a 29 anos  30 a 39 anos  40 a 49 anos  \\\n",
       "0             0             0             0             0             1   \n",
       "1             0             1             0             0             0   \n",
       "2             0             0             0             0             0   \n",
       "3             0             0             0             0             0   \n",
       "4             0             1             0             0             0   \n",
       "\n",
       "   50 a 59 anos  60 a 69 anos  70 a 79 anos  Total  \n",
       "0             0             0             0      1  \n",
       "1             0             0             0      1  \n",
       "2             0             0             1      1  \n",
       "3             1             0             0      1  \n",
       "4             0             0             0      1  "
      ]
     },
     "execution_count": 4,
     "metadata": {},
     "output_type": "execute_result"
    }
   ],
   "source": [
    "df.head()"
   ]
  },
  {
   "cell_type": "code",
   "execution_count": 5,
   "id": "31d3a105",
   "metadata": {},
   "outputs": [
    {
     "name": "stdout",
     "output_type": "stream",
     "text": [
      "<class 'pandas.core.frame.DataFrame'>\n",
      "RangeIndex: 660 entries, 0 to 659\n",
      "Data columns (total 12 columns):\n",
      " #   Column          Non-Null Count  Dtype  \n",
      "---  ------          --------------  -----  \n",
      " 0   Município       660 non-null    object \n",
      " 1   Mesorregião     660 non-null    object \n",
      " 2   Média de idade  659 non-null    float64\n",
      " 3   10 a 14 anos    660 non-null    int64  \n",
      " 4   15 a 19 anos    660 non-null    int64  \n",
      " 5   20 a 29 anos    660 non-null    int64  \n",
      " 6   30 a 39 anos    660 non-null    int64  \n",
      " 7   40 a 49 anos    660 non-null    int64  \n",
      " 8   50 a 59 anos    660 non-null    int64  \n",
      " 9   60 a 69 anos    660 non-null    int64  \n",
      " 10  70 a 79 anos    660 non-null    int64  \n",
      " 11  Total           660 non-null    int64  \n",
      "dtypes: float64(1), int64(9), object(2)\n",
      "memory usage: 62.0+ KB\n"
     ]
    }
   ],
   "source": [
    "df.info()"
   ]
  },
  {
   "cell_type": "code",
   "execution_count": 6,
   "id": "7ba0a2be",
   "metadata": {},
   "outputs": [
    {
     "data": {
      "text/plain": [
       "Município         0\n",
       "Mesorregião       0\n",
       "Média de idade    1\n",
       "10 a 14 anos      0\n",
       "15 a 19 anos      0\n",
       "20 a 29 anos      0\n",
       "30 a 39 anos      0\n",
       "40 a 49 anos      0\n",
       "50 a 59 anos      0\n",
       "60 a 69 anos      0\n",
       "70 a 79 anos      0\n",
       "Total             0\n",
       "dtype: int64"
      ]
     },
     "execution_count": 6,
     "metadata": {},
     "output_type": "execute_result"
    }
   ],
   "source": [
    "df.isnull().sum()"
   ]
  },
  {
   "cell_type": "code",
   "execution_count": 7,
   "id": "dfd7ff79",
   "metadata": {},
   "outputs": [
    {
     "data": {
      "text/html": [
       "<div>\n",
       "<style scoped>\n",
       "    .dataframe tbody tr th:only-of-type {\n",
       "        vertical-align: middle;\n",
       "    }\n",
       "\n",
       "    .dataframe tbody tr th {\n",
       "        vertical-align: top;\n",
       "    }\n",
       "\n",
       "    .dataframe thead th {\n",
       "        text-align: right;\n",
       "    }\n",
       "</style>\n",
       "<table border=\"1\" class=\"dataframe\">\n",
       "  <thead>\n",
       "    <tr style=\"text-align: right;\">\n",
       "      <th></th>\n",
       "      <th>Município</th>\n",
       "      <th>Mesorregião</th>\n",
       "      <th>Média de idade</th>\n",
       "      <th>10 a 14 anos</th>\n",
       "      <th>15 a 19 anos</th>\n",
       "      <th>20 a 29 anos</th>\n",
       "      <th>30 a 39 anos</th>\n",
       "      <th>40 a 49 anos</th>\n",
       "      <th>50 a 59 anos</th>\n",
       "      <th>60 a 69 anos</th>\n",
       "      <th>70 a 79 anos</th>\n",
       "      <th>Total</th>\n",
       "    </tr>\n",
       "  </thead>\n",
       "  <tbody>\n",
       "    <tr>\n",
       "      <th>434</th>\n",
       "      <td>TUPACIGUARA</td>\n",
       "      <td>Triângulo Mineiro/Alto Paranaíba</td>\n",
       "      <td>NaN</td>\n",
       "      <td>0</td>\n",
       "      <td>2</td>\n",
       "      <td>0</td>\n",
       "      <td>3</td>\n",
       "      <td>2</td>\n",
       "      <td>0</td>\n",
       "      <td>0</td>\n",
       "      <td>0</td>\n",
       "      <td>7</td>\n",
       "    </tr>\n",
       "  </tbody>\n",
       "</table>\n",
       "</div>"
      ],
      "text/plain": [
       "       Município                       Mesorregião  Média de idade  \\\n",
       "434  TUPACIGUARA  Triângulo Mineiro/Alto Paranaíba             NaN   \n",
       "\n",
       "     10 a 14 anos  15 a 19 anos  20 a 29 anos  30 a 39 anos  40 a 49 anos  \\\n",
       "434             0             2             0             3             2   \n",
       "\n",
       "     50 a 59 anos  60 a 69 anos  70 a 79 anos  Total  \n",
       "434             0             0             0      7  "
      ]
     },
     "execution_count": 7,
     "metadata": {},
     "output_type": "execute_result"
    }
   ],
   "source": [
    "df[df.isnull().any(axis=1)]"
   ]
  },
  {
   "cell_type": "code",
   "execution_count": 8,
   "id": "cf94106a",
   "metadata": {},
   "outputs": [
    {
     "data": {
      "text/html": [
       "<div>\n",
       "<style scoped>\n",
       "    .dataframe tbody tr th:only-of-type {\n",
       "        vertical-align: middle;\n",
       "    }\n",
       "\n",
       "    .dataframe tbody tr th {\n",
       "        vertical-align: top;\n",
       "    }\n",
       "\n",
       "    .dataframe thead th {\n",
       "        text-align: right;\n",
       "    }\n",
       "</style>\n",
       "<table border=\"1\" class=\"dataframe\">\n",
       "  <thead>\n",
       "    <tr style=\"text-align: right;\">\n",
       "      <th></th>\n",
       "      <th>Média de idade</th>\n",
       "      <th>10 a 14 anos</th>\n",
       "      <th>15 a 19 anos</th>\n",
       "      <th>20 a 29 anos</th>\n",
       "      <th>30 a 39 anos</th>\n",
       "      <th>40 a 49 anos</th>\n",
       "      <th>50 a 59 anos</th>\n",
       "      <th>60 a 69 anos</th>\n",
       "      <th>70 a 79 anos</th>\n",
       "      <th>Total</th>\n",
       "    </tr>\n",
       "  </thead>\n",
       "  <tbody>\n",
       "    <tr>\n",
       "      <th>count</th>\n",
       "      <td>659.0</td>\n",
       "      <td>660.0</td>\n",
       "      <td>660.0</td>\n",
       "      <td>660.0</td>\n",
       "      <td>660.0</td>\n",
       "      <td>660.0</td>\n",
       "      <td>660.0</td>\n",
       "      <td>660.0</td>\n",
       "      <td>660.0</td>\n",
       "      <td>660.0</td>\n",
       "    </tr>\n",
       "    <tr>\n",
       "      <th>mean</th>\n",
       "      <td>40.731411</td>\n",
       "      <td>0.459091</td>\n",
       "      <td>1.318182</td>\n",
       "      <td>3.215152</td>\n",
       "      <td>3.369697</td>\n",
       "      <td>3.139394</td>\n",
       "      <td>2.125758</td>\n",
       "      <td>1.033333</td>\n",
       "      <td>0.493939</td>\n",
       "      <td>15.154545</td>\n",
       "    </tr>\n",
       "    <tr>\n",
       "      <th>std</th>\n",
       "      <td>19.127768</td>\n",
       "      <td>1.651732</td>\n",
       "      <td>4.284493</td>\n",
       "      <td>9.908339</td>\n",
       "      <td>10.077529</td>\n",
       "      <td>9.466431</td>\n",
       "      <td>6.22133</td>\n",
       "      <td>3.077962</td>\n",
       "      <td>2.146026</td>\n",
       "      <td>43.459332</td>\n",
       "    </tr>\n",
       "    <tr>\n",
       "      <th>min</th>\n",
       "      <td>12.0</td>\n",
       "      <td>0.0</td>\n",
       "      <td>0.0</td>\n",
       "      <td>0.0</td>\n",
       "      <td>0.0</td>\n",
       "      <td>0.0</td>\n",
       "      <td>0.0</td>\n",
       "      <td>0.0</td>\n",
       "      <td>0.0</td>\n",
       "      <td>1.0</td>\n",
       "    </tr>\n",
       "    <tr>\n",
       "      <th>25%</th>\n",
       "      <td>23.0</td>\n",
       "      <td>0.0</td>\n",
       "      <td>0.0</td>\n",
       "      <td>0.0</td>\n",
       "      <td>0.0</td>\n",
       "      <td>0.0</td>\n",
       "      <td>0.0</td>\n",
       "      <td>0.0</td>\n",
       "      <td>0.0</td>\n",
       "      <td>2.0</td>\n",
       "    </tr>\n",
       "    <tr>\n",
       "      <th>50%</th>\n",
       "      <td>34.0</td>\n",
       "      <td>0.0</td>\n",
       "      <td>0.0</td>\n",
       "      <td>1.0</td>\n",
       "      <td>1.0</td>\n",
       "      <td>1.0</td>\n",
       "      <td>0.0</td>\n",
       "      <td>0.0</td>\n",
       "      <td>0.0</td>\n",
       "      <td>4.0</td>\n",
       "    </tr>\n",
       "    <tr>\n",
       "      <th>75%</th>\n",
       "      <td>62.0</td>\n",
       "      <td>0.0</td>\n",
       "      <td>1.0</td>\n",
       "      <td>2.25</td>\n",
       "      <td>3.0</td>\n",
       "      <td>2.0</td>\n",
       "      <td>2.0</td>\n",
       "      <td>1.0</td>\n",
       "      <td>0.0</td>\n",
       "      <td>11.0</td>\n",
       "    </tr>\n",
       "    <tr>\n",
       "      <th>max</th>\n",
       "      <td>78.0</td>\n",
       "      <td>30.0</td>\n",
       "      <td>67.0</td>\n",
       "      <td>169.0</td>\n",
       "      <td>124.0</td>\n",
       "      <td>106.0</td>\n",
       "      <td>77.0</td>\n",
       "      <td>30.0</td>\n",
       "      <td>31.0</td>\n",
       "      <td>576.0</td>\n",
       "    </tr>\n",
       "    <tr>\n",
       "      <th>mode</th>\n",
       "      <td>66.0</td>\n",
       "      <td>0</td>\n",
       "      <td>0</td>\n",
       "      <td>0</td>\n",
       "      <td>0</td>\n",
       "      <td>0</td>\n",
       "      <td>0</td>\n",
       "      <td>0</td>\n",
       "      <td>0</td>\n",
       "      <td>1</td>\n",
       "    </tr>\n",
       "  </tbody>\n",
       "</table>\n",
       "</div>"
      ],
      "text/plain": [
       "      Média de idade 10 a 14 anos 15 a 19 anos 20 a 29 anos 30 a 39 anos  \\\n",
       "count          659.0        660.0        660.0        660.0        660.0   \n",
       "mean       40.731411     0.459091     1.318182     3.215152     3.369697   \n",
       "std        19.127768     1.651732     4.284493     9.908339    10.077529   \n",
       "min             12.0          0.0          0.0          0.0          0.0   \n",
       "25%             23.0          0.0          0.0          0.0          0.0   \n",
       "50%             34.0          0.0          0.0          1.0          1.0   \n",
       "75%             62.0          0.0          1.0         2.25          3.0   \n",
       "max             78.0         30.0         67.0        169.0        124.0   \n",
       "mode            66.0            0            0            0            0   \n",
       "\n",
       "      40 a 49 anos 50 a 59 anos 60 a 69 anos 70 a 79 anos      Total  \n",
       "count        660.0        660.0        660.0        660.0      660.0  \n",
       "mean      3.139394     2.125758     1.033333     0.493939  15.154545  \n",
       "std       9.466431      6.22133     3.077962     2.146026  43.459332  \n",
       "min            0.0          0.0          0.0          0.0        1.0  \n",
       "25%            0.0          0.0          0.0          0.0        2.0  \n",
       "50%            1.0          0.0          0.0          0.0        4.0  \n",
       "75%            2.0          2.0          1.0          0.0       11.0  \n",
       "max          106.0         77.0         30.0         31.0      576.0  \n",
       "mode             0            0            0            0          1  "
      ]
     },
     "execution_count": 8,
     "metadata": {},
     "output_type": "execute_result"
    }
   ],
   "source": [
    "def describe_with_mode(df):\n",
    "    description = df.describe().transpose()\n",
    "    \n",
    "    # Calcula a moda para cada coluna e adiciona ao DataFrame de descrição\n",
    "    modes = {}\n",
    "    for column in df.columns:\n",
    "        modes[column] = df[column].mode()\n",
    "        \n",
    "    # Constrói um DataFrame com as modas\n",
    "    mode_df = pd.DataFrame({col: modes[col].values[0] for col in modes}, index=['mode']).transpose()\n",
    "    \n",
    "    # Junta a moda com as estatísticas descritivas\n",
    "    description = description.join(mode_df)\n",
    "    \n",
    "    return description.transpose()\n",
    "\n",
    "describe_with_mode(df)"
   ]
  },
  {
   "cell_type": "code",
   "execution_count": 9,
   "id": "142ea826",
   "metadata": {},
   "outputs": [
    {
     "data": {
      "text/html": [
       "<div>\n",
       "<style scoped>\n",
       "    .dataframe tbody tr th:only-of-type {\n",
       "        vertical-align: middle;\n",
       "    }\n",
       "\n",
       "    .dataframe tbody tr th {\n",
       "        vertical-align: top;\n",
       "    }\n",
       "\n",
       "    .dataframe thead th {\n",
       "        text-align: right;\n",
       "    }\n",
       "</style>\n",
       "<table border=\"1\" class=\"dataframe\">\n",
       "  <thead>\n",
       "    <tr style=\"text-align: right;\">\n",
       "      <th></th>\n",
       "      <th>Município</th>\n",
       "      <th>Internações</th>\n",
       "      <th>Frequência relativa</th>\n",
       "    </tr>\n",
       "  </thead>\n",
       "  <tbody>\n",
       "    <tr>\n",
       "      <th>0</th>\n",
       "      <td>MONTES CLAROS</td>\n",
       "      <td>576</td>\n",
       "      <td>0.057588</td>\n",
       "    </tr>\n",
       "    <tr>\n",
       "      <th>1</th>\n",
       "      <td>UBERLANDIA</td>\n",
       "      <td>449</td>\n",
       "      <td>0.044891</td>\n",
       "    </tr>\n",
       "    <tr>\n",
       "      <th>2</th>\n",
       "      <td>UBERABA</td>\n",
       "      <td>407</td>\n",
       "      <td>0.040692</td>\n",
       "    </tr>\n",
       "    <tr>\n",
       "      <th>3</th>\n",
       "      <td>JUIZ DE FORA</td>\n",
       "      <td>341</td>\n",
       "      <td>0.034093</td>\n",
       "    </tr>\n",
       "    <tr>\n",
       "      <th>4</th>\n",
       "      <td>BELO HORIZONTE</td>\n",
       "      <td>288</td>\n",
       "      <td>0.028794</td>\n",
       "    </tr>\n",
       "    <tr>\n",
       "      <th>5</th>\n",
       "      <td>IPATINGA</td>\n",
       "      <td>287</td>\n",
       "      <td>0.028694</td>\n",
       "    </tr>\n",
       "    <tr>\n",
       "      <th>6</th>\n",
       "      <td>MURIAE</td>\n",
       "      <td>224</td>\n",
       "      <td>0.022396</td>\n",
       "    </tr>\n",
       "    <tr>\n",
       "      <th>7</th>\n",
       "      <td>POUSO ALEGRE</td>\n",
       "      <td>168</td>\n",
       "      <td>0.016797</td>\n",
       "    </tr>\n",
       "    <tr>\n",
       "      <th>8</th>\n",
       "      <td>JANAUBA</td>\n",
       "      <td>150</td>\n",
       "      <td>0.014997</td>\n",
       "    </tr>\n",
       "    <tr>\n",
       "      <th>9</th>\n",
       "      <td>BARBACENA</td>\n",
       "      <td>146</td>\n",
       "      <td>0.014597</td>\n",
       "    </tr>\n",
       "  </tbody>\n",
       "</table>\n",
       "</div>"
      ],
      "text/plain": [
       "        Município  Internações  Frequência relativa\n",
       "0   MONTES CLAROS          576             0.057588\n",
       "1      UBERLANDIA          449             0.044891\n",
       "2         UBERABA          407             0.040692\n",
       "3    JUIZ DE FORA          341             0.034093\n",
       "4  BELO HORIZONTE          288             0.028794\n",
       "5        IPATINGA          287             0.028694\n",
       "6          MURIAE          224             0.022396\n",
       "7    POUSO ALEGRE          168             0.016797\n",
       "8         JANAUBA          150             0.014997\n",
       "9       BARBACENA          146             0.014597"
      ]
     },
     "execution_count": 9,
     "metadata": {},
     "output_type": "execute_result"
    }
   ],
   "source": [
    "df_muni = df[['Município','Total']].sort_values('Total', ascending=False).rename(columns={'Total':'Internações'}).reset_index()\n",
    "df_muni['Frequência relativa'] = df_muni['Internações']/df_muni['Internações'].sum()\n",
    "df_muni.drop('index',axis=1,inplace=True)\n",
    "df_muni.head(10)"
   ]
  },
  {
   "cell_type": "code",
   "execution_count": 10,
   "id": "f3cd342b",
   "metadata": {},
   "outputs": [
    {
     "name": "stdout",
     "output_type": "stream",
     "text": [
      "k = 23.0\n"
     ]
    },
    {
     "data": {
      "image/png": "[encoded data removed]",
      "text/plain": [
       "<Figure size 640x480 with 1 Axes>"
      ]
     },
     "metadata": {},
     "output_type": "display_data"
    }
   ],
   "source": [
    "struges = (1 + 3.322*np.log(df['Média de idade'].count())).round(0)\n",
    "print(f'k = {struges}')\n",
    "fig = sns.histplot(data=df, x=\"Média de idade\", bins=15, kde=True)\n",
    "plt.xlabel(\"Média de idade\")\n",
    "plt.ylabel(\"Frequência\")\n",
    "plt.title(\"Histograma da média de idade\") # You can comment this line out if you don't need title\n",
    "plt.show(fig)"
   ]
  },
  {
   "cell_type": "code",
   "execution_count": 11,
   "id": "dc96fe6d",
   "metadata": {},
   "outputs": [
    {
     "name": "stdout",
     "output_type": "stream",
     "text": [
      "k = 23.0\n"
     ]
    },
    {
     "data": {
      "image/png": "[encoded data removed]",
      "text/plain": [
       "<Figure size 640x480 with 1 Axes>"
      ]
     },
     "metadata": {},
     "output_type": "display_data"
    }
   ],
   "source": [
    "struges = (1 + 3.322*np.log(df.Total.count())).round(0)\n",
    "print(f'k = {struges}')\n",
    "fig = sns.histplot(data=df, x=\"Total\", bins=15, kde=True)\n",
    "plt.xlabel(\"Internações por município\")\n",
    "plt.ylabel(\"Frequência\")\n",
    "plt.title(\"Histograma das internações por município\") # You can comment this line out if you don't need title\n",
    "plt.show(fig)"
   ]
  },
  {
   "cell_type": "code",
   "execution_count": 12,
   "id": "380264bd",
   "metadata": {},
   "outputs": [
    {
     "data": {
      "text/html": [
       "<div>\n",
       "<style scoped>\n",
       "    .dataframe tbody tr th:only-of-type {\n",
       "        vertical-align: middle;\n",
       "    }\n",
       "\n",
       "    .dataframe tbody tr th {\n",
       "        vertical-align: top;\n",
       "    }\n",
       "\n",
       "    .dataframe thead th {\n",
       "        text-align: right;\n",
       "    }\n",
       "</style>\n",
       "<table border=\"1\" class=\"dataframe\">\n",
       "  <thead>\n",
       "    <tr style=\"text-align: right;\">\n",
       "      <th></th>\n",
       "      <th>Mesorregião</th>\n",
       "      <th>Internações</th>\n",
       "    </tr>\n",
       "  </thead>\n",
       "  <tbody>\n",
       "    <tr>\n",
       "      <th>0</th>\n",
       "      <td>Metropolitana de Belo Horizonte</td>\n",
       "      <td>1665</td>\n",
       "    </tr>\n",
       "    <tr>\n",
       "      <th>1</th>\n",
       "      <td>Triângulo Mineiro/Alto Paranaíba</td>\n",
       "      <td>1603</td>\n",
       "    </tr>\n",
       "    <tr>\n",
       "      <th>2</th>\n",
       "      <td>Zona da Mata</td>\n",
       "      <td>1465</td>\n",
       "    </tr>\n",
       "    <tr>\n",
       "      <th>3</th>\n",
       "      <td>Norte de Minas</td>\n",
       "      <td>1252</td>\n",
       "    </tr>\n",
       "    <tr>\n",
       "      <th>4</th>\n",
       "      <td>Vale do Rio Doce</td>\n",
       "      <td>1105</td>\n",
       "    </tr>\n",
       "    <tr>\n",
       "      <th>5</th>\n",
       "      <td>Sul/Sudoeste de Minas</td>\n",
       "      <td>1081</td>\n",
       "    </tr>\n",
       "    <tr>\n",
       "      <th>6</th>\n",
       "      <td>Jequitinhonha</td>\n",
       "      <td>610</td>\n",
       "    </tr>\n",
       "    <tr>\n",
       "      <th>7</th>\n",
       "      <td>Central Mineira</td>\n",
       "      <td>369</td>\n",
       "    </tr>\n",
       "    <tr>\n",
       "      <th>8</th>\n",
       "      <td>Oeste de Minas</td>\n",
       "      <td>304</td>\n",
       "    </tr>\n",
       "    <tr>\n",
       "      <th>9</th>\n",
       "      <td>Campo das Vertentes</td>\n",
       "      <td>277</td>\n",
       "    </tr>\n",
       "    <tr>\n",
       "      <th>10</th>\n",
       "      <td>Vale do Mucuri</td>\n",
       "      <td>199</td>\n",
       "    </tr>\n",
       "    <tr>\n",
       "      <th>11</th>\n",
       "      <td>Noroeste de Minas</td>\n",
       "      <td>72</td>\n",
       "    </tr>\n",
       "  </tbody>\n",
       "</table>\n",
       "</div>"
      ],
      "text/plain": [
       "                         Mesorregião  Internações\n",
       "0    Metropolitana de Belo Horizonte         1665\n",
       "1   Triângulo Mineiro/Alto Paranaíba         1603\n",
       "2                       Zona da Mata         1465\n",
       "3                     Norte de Minas         1252\n",
       "4                   Vale do Rio Doce         1105\n",
       "5              Sul/Sudoeste de Minas         1081\n",
       "6                      Jequitinhonha          610\n",
       "7                    Central Mineira          369\n",
       "8                     Oeste de Minas          304\n",
       "9                Campo das Vertentes          277\n",
       "10                    Vale do Mucuri          199\n",
       "11                 Noroeste de Minas           72"
      ]
     },
     "execution_count": 12,
     "metadata": {},
     "output_type": "execute_result"
    }
   ],
   "source": [
    "df_meso = df[['Mesorregião','Total']].groupby(['Mesorregião']).agg(['sum'])\n",
    "df_meso = df_meso.droplevel(0, axis=1).sort_values('sum', ascending=False).reset_index().rename(columns={'sum':'Internações'})\n",
    "df_meso"
   ]
  },
  {
   "cell_type": "code",
   "execution_count": 13,
   "id": "cec064d1",
   "metadata": {},
   "outputs": [
    {
     "name": "stdout",
     "output_type": "stream",
     "text": [
      "<class 'pandas.core.frame.DataFrame'>\n",
      "RangeIndex: 12 entries, 0 to 11\n",
      "Data columns (total 2 columns):\n",
      " #   Column       Non-Null Count  Dtype \n",
      "---  ------       --------------  ----- \n",
      " 0   Mesorregião  12 non-null     object\n",
      " 1   Internações  12 non-null     int64 \n",
      "dtypes: int64(1), object(1)\n",
      "memory usage: 320.0+ bytes\n"
     ]
    }
   ],
   "source": [
    "df_meso.info()"
   ]
  },
  {
   "cell_type": "code",
   "execution_count": 14,
   "id": "5f3bca4d",
   "metadata": {},
   "outputs": [
    {
     "data": {
      "image/png": "[encoded data removed]",
      "text/plain": [
       "<Figure size 640x480 with 1 Axes>"
      ]
     },
     "metadata": {},
     "output_type": "display_data"
    }
   ],
   "source": [
    "ax = sns.barplot(df_meso, x=\"Internações\", y=\"Mesorregião\")\n",
    "ax.bar_label(ax.containers[0], fontsize=10);\n",
    "ax.set_title(\"Internações por Mesorregião\") \n",
    "sns.despine()"
   ]
  },
  {
   "cell_type": "code",
   "execution_count": 15,
   "id": "4ba1fa2b",
   "metadata": {},
   "outputs": [
    {
     "data": {
      "text/plain": [
       "Município         ABADIA DOS DOURADOSAGUAS VERMELHASAMPARO DO SE...\n",
       "Mesorregião       Triângulo Mineiro/Alto ParanaíbaNorte de Minas...\n",
       "Média de idade                                              26842.0\n",
       "10 a 14 anos                                                    303\n",
       "15 a 19 anos                                                    870\n",
       "20 a 29 anos                                                   2122\n",
       "30 a 39 anos                                                   2224\n",
       "40 a 49 anos                                                   2072\n",
       "50 a 59 anos                                                   1403\n",
       "60 a 69 anos                                                    682\n",
       "70 a 79 anos                                                    326\n",
       "Total                                                         10002\n",
       "dtype: object"
      ]
     },
     "execution_count": 15,
     "metadata": {},
     "output_type": "execute_result"
    }
   ],
   "source": [
    "df.sum()"
   ]
  },
  {
   "cell_type": "code",
   "execution_count": 16,
   "id": "16b6487e",
   "metadata": {},
   "outputs": [
    {
     "data": {
      "text/html": [
       "<div>\n",
       "<style scoped>\n",
       "    .dataframe tbody tr th:only-of-type {\n",
       "        vertical-align: middle;\n",
       "    }\n",
       "\n",
       "    .dataframe tbody tr th {\n",
       "        vertical-align: top;\n",
       "    }\n",
       "\n",
       "    .dataframe thead th {\n",
       "        text-align: right;\n",
       "    }\n",
       "</style>\n",
       "<table border=\"1\" class=\"dataframe\">\n",
       "  <thead>\n",
       "    <tr style=\"text-align: right;\">\n",
       "      <th></th>\n",
       "      <th>Faixa Etária</th>\n",
       "      <th>Internações</th>\n",
       "    </tr>\n",
       "  </thead>\n",
       "  <tbody>\n",
       "    <tr>\n",
       "      <th>0</th>\n",
       "      <td>10 a 14 anos</td>\n",
       "      <td>303</td>\n",
       "    </tr>\n",
       "    <tr>\n",
       "      <th>1</th>\n",
       "      <td>15 a 19 anos</td>\n",
       "      <td>870</td>\n",
       "    </tr>\n",
       "    <tr>\n",
       "      <th>2</th>\n",
       "      <td>20 a 29 anos</td>\n",
       "      <td>2122</td>\n",
       "    </tr>\n",
       "    <tr>\n",
       "      <th>3</th>\n",
       "      <td>30 a 39 anos</td>\n",
       "      <td>2224</td>\n",
       "    </tr>\n",
       "    <tr>\n",
       "      <th>4</th>\n",
       "      <td>40 a 49 anos</td>\n",
       "      <td>2072</td>\n",
       "    </tr>\n",
       "    <tr>\n",
       "      <th>5</th>\n",
       "      <td>50 a 59 anos</td>\n",
       "      <td>1403</td>\n",
       "    </tr>\n",
       "    <tr>\n",
       "      <th>6</th>\n",
       "      <td>60 a 69 anos</td>\n",
       "      <td>682</td>\n",
       "    </tr>\n",
       "    <tr>\n",
       "      <th>7</th>\n",
       "      <td>70 a 79 anos</td>\n",
       "      <td>326</td>\n",
       "    </tr>\n",
       "  </tbody>\n",
       "</table>\n",
       "</div>"
      ],
      "text/plain": [
       "   Faixa Etária  Internações\n",
       "0  10 a 14 anos          303\n",
       "1  15 a 19 anos          870\n",
       "2  20 a 29 anos         2122\n",
       "3  30 a 39 anos         2224\n",
       "4  40 a 49 anos         2072\n",
       "5  50 a 59 anos         1403\n",
       "6  60 a 69 anos          682\n",
       "7  70 a 79 anos          326"
      ]
     },
     "execution_count": 16,
     "metadata": {},
     "output_type": "execute_result"
    }
   ],
   "source": [
    "df_age = df[['10 a 14 anos','15 a 19 anos','20 a 29 anos','30 a 39 anos','40 a 49 anos','50 a 59 anos','60 a 69 anos','70 a 79 anos']].sum()\n",
    "df_age = pd.DataFrame(df_age).reset_index().rename(columns={'index':'Faixa Etária',0:'Internações'})\n",
    "df_age"
   ]
  },
  {
   "cell_type": "code",
   "execution_count": 17,
   "id": "5b12cddb",
   "metadata": {},
   "outputs": [
    {
     "data": {
      "image/png": "[encoded data removed]",
      "text/plain": [
       "<Figure size 1100x400 with 1 Axes>"
      ]
     },
     "metadata": {},
     "output_type": "display_data"
    }
   ],
   "source": [
    "plt.figure(figsize=(11,4))\n",
    "ax = sns.barplot(df_age, y=\"Internações\", x=\"Faixa Etária\", color='slategray')\n",
    "ax.bar_label(ax.containers[0], fontsize=10);\n",
    "ax.set_title(\"Internações por Faixa Etária\") \n",
    "sns.despine()"
   ]
  },
  {
   "cell_type": "code",
   "execution_count": 18,
   "id": "3df0bdee",
   "metadata": {},
   "outputs": [
    {
     "data": {
      "text/html": [
       "<div>\n",
       "<style scoped>\n",
       "    .dataframe tbody tr th:only-of-type {\n",
       "        vertical-align: middle;\n",
       "    }\n",
       "\n",
       "    .dataframe tbody tr th {\n",
       "        vertical-align: top;\n",
       "    }\n",
       "\n",
       "    .dataframe thead th {\n",
       "        text-align: right;\n",
       "    }\n",
       "</style>\n",
       "<table border=\"1\" class=\"dataframe\">\n",
       "  <thead>\n",
       "    <tr style=\"text-align: right;\">\n",
       "      <th></th>\n",
       "      <th>Média de idade</th>\n",
       "      <th>Total</th>\n",
       "    </tr>\n",
       "  </thead>\n",
       "  <tbody>\n",
       "    <tr>\n",
       "      <th>Média de idade</th>\n",
       "      <td>1.000000</td>\n",
       "      <td>0.358004</td>\n",
       "    </tr>\n",
       "    <tr>\n",
       "      <th>Total</th>\n",
       "      <td>0.358004</td>\n",
       "      <td>1.000000</td>\n",
       "    </tr>\n",
       "  </tbody>\n",
       "</table>\n",
       "</div>"
      ],
      "text/plain": [
       "                Média de idade     Total\n",
       "Média de idade        1.000000  0.358004\n",
       "Total                 0.358004  1.000000"
      ]
     },
     "execution_count": 18,
     "metadata": {},
     "output_type": "execute_result"
    }
   ],
   "source": [
    "df[['Média de idade','Total']].corr()"
   ]
  },
  {
   "cell_type": "code",
   "execution_count": 19,
   "id": "410f9481",
   "metadata": {},
   "outputs": [
    {
     "data": {
      "text/plain": [
       "PearsonRResult(statistic=0.3580043741240898, pvalue=2.3283560631980835e-21)"
      ]
     },
     "execution_count": 19,
     "metadata": {},
     "output_type": "execute_result"
    }
   ],
   "source": [
    "import pandas as pd\n",
    "from scipy.stats import pearsonr\n",
    "df_corr = df[['Média de idade','Total']].dropna()\n",
    "pearsonr(df_corr['Média de idade'], df_corr['Total'])"
   ]
  }
 ],
 "metadata": {
  "kernelspec": {
   "display_name": "Python 3 (ipykernel)",
   "language": "python",
   "name": "python3"
  },
  "language_info": {
   "codemirror_mode": {
    "name": "ipython",
    "version": 3
   },
   "file_extension": ".py",
   "mimetype": "text/x-python",
   "name": "python",
   "nbconvert_exporter": "python",
   "pygments_lexer": "ipython3",
   "version": "3.9.15"
  }
 },
 "nbformat": 4,
 "nbformat_minor": 5
}
